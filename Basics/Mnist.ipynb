{
 "cells": [
  {
   "cell_type": "code",
   "execution_count": 28,
   "metadata": {},
   "outputs": [],
   "source": [
    "import os\n",
    "import numpy as np\n",
    "import tensorflow as tf\n",
    "from tensorflow import keras\n",
    "from tensorflow.keras import datasets, layers, optimizers"
   ]
  },
  {
   "cell_type": "code",
   "execution_count": 29,
   "metadata": {},
   "outputs": [],
   "source": [
    "os.environ['TF_CPP_MIN_LOG_LEVEL'] = '2' # print some useful info"
   ]
  },
  {
   "cell_type": "code",
   "execution_count": 38,
   "metadata": {},
   "outputs": [],
   "source": [
    "(x, y), (x_val, y_val) = datasets.mnist.load_data()\n",
    "\n",
    "x = tf.convert_to_tensor(x, dtype=tf.float32) / 255.\n",
    "y = tf.convert_to_tensor(y, dtype=tf.int32)\n",
    "y = tf.one_hot(y, depth=10)\n",
    "\n",
    "train_dataset = tf.data.Dataset.from_tensor_slices((x, y))\n",
    "train_dataset = train_dataset.batch(200)"
   ]
  },
  {
   "cell_type": "code",
   "execution_count": 43,
   "metadata": {},
   "outputs": [],
   "source": [
    "model = keras.Sequential([\n",
    "    layers.Dense(512, activation='relu'),\n",
    "    layers.Dense(256, activation='relu'),\n",
    "    layers.Dense(10)\n",
    "])"
   ]
  },
  {
   "cell_type": "code",
   "execution_count": 40,
   "metadata": {},
   "outputs": [],
   "source": [
    "# Stochastic gradient descent\n",
    "optimizer = optimizers.SGD(learning_rate=0.001)"
   ]
  },
  {
   "cell_type": "code",
   "execution_count": 48,
   "metadata": {},
   "outputs": [],
   "source": [
    "def train_epoch(epoch):\n",
    "    for step, (x, y) in enumerate(train_dataset):\n",
    "        \n",
    "        with tf.GradientTape() as tape:\n",
    "            # [batch, 28, 28] => [b, 784]\n",
    "            x = tf.reshape(x, (-1, 28 * 28))\n",
    "            \n",
    "            out = model(x)\n",
    "            \n",
    "            loss = tf.reduce_sum(tf.square(out - y)) / x.shape[0]\n",
    "        \n",
    "         # Step3 optimize and update w1, w2, w3, b1, b2, b3\n",
    "        grads = tape.gradient(loss, model.trainable_variables)\n",
    "        # w' = w - lr * grad\n",
    "        optimizer.apply_gradients(zip(grads, model.trainable_variables))\n",
    "        \n",
    "        if step % 100 == 0:\n",
    "            print(epoch, step, 'loss: ', loss.numpy())"
   ]
  },
  {
   "cell_type": "code",
   "execution_count": 49,
   "metadata": {},
   "outputs": [],
   "source": [
    "def train():\n",
    "    for epoch in range(30):\n",
    "        train_epoch(epoch)"
   ]
  },
  {
   "cell_type": "code",
   "execution_count": 51,
   "metadata": {},
   "outputs": [
    {
     "name": "stdout",
     "output_type": "stream",
     "text": [
      "0 0 loss:  0.23784885\n",
      "0 100 loss:  0.28933868\n",
      "0 200 loss:  0.24466172\n",
      "1 0 loss:  0.23521732\n",
      "1 100 loss:  0.28616753\n",
      "1 200 loss:  0.24197368\n",
      "2 0 loss:  0.23269464\n",
      "2 100 loss:  0.28310657\n",
      "2 200 loss:  0.23939207\n",
      "3 0 loss:  0.23027463\n",
      "3 100 loss:  0.28014705\n",
      "3 200 loss:  0.2369096\n",
      "4 0 loss:  0.2279771\n",
      "4 100 loss:  0.2772972\n",
      "4 200 loss:  0.23451038\n",
      "5 0 loss:  0.22577818\n",
      "5 100 loss:  0.27455693\n",
      "5 200 loss:  0.2321725\n",
      "6 0 loss:  0.2236504\n",
      "6 100 loss:  0.27190343\n",
      "6 200 loss:  0.22993378\n",
      "7 0 loss:  0.2215899\n",
      "7 100 loss:  0.26936886\n",
      "7 200 loss:  0.22776903\n",
      "8 0 loss:  0.2195974\n",
      "8 100 loss:  0.266918\n",
      "8 200 loss:  0.2256667\n",
      "9 0 loss:  0.21766907\n",
      "9 100 loss:  0.26456407\n",
      "9 200 loss:  0.22363758\n",
      "10 0 loss:  0.21581241\n",
      "10 100 loss:  0.26231158\n",
      "10 200 loss:  0.22168316\n",
      "11 0 loss:  0.21402681\n",
      "11 100 loss:  0.26011753\n",
      "11 200 loss:  0.21977797\n",
      "12 0 loss:  0.21232776\n",
      "12 100 loss:  0.25799525\n",
      "12 200 loss:  0.21792191\n",
      "13 0 loss:  0.21069059\n",
      "13 100 loss:  0.2559244\n",
      "13 200 loss:  0.21611534\n",
      "14 0 loss:  0.20910397\n",
      "14 100 loss:  0.253917\n",
      "14 200 loss:  0.21436451\n",
      "15 0 loss:  0.20756859\n",
      "15 100 loss:  0.25199243\n",
      "15 200 loss:  0.21265559\n",
      "16 0 loss:  0.20606491\n",
      "16 100 loss:  0.25012088\n",
      "16 200 loss:  0.21099684\n",
      "17 0 loss:  0.20459904\n",
      "17 100 loss:  0.24829777\n",
      "17 200 loss:  0.2093638\n",
      "18 0 loss:  0.20316827\n",
      "18 100 loss:  0.24652474\n",
      "18 200 loss:  0.20778492\n",
      "19 0 loss:  0.20177516\n",
      "19 100 loss:  0.24480717\n",
      "19 200 loss:  0.20624432\n",
      "20 0 loss:  0.20040745\n",
      "20 100 loss:  0.24311517\n",
      "20 200 loss:  0.20475838\n",
      "21 0 loss:  0.19909056\n",
      "21 100 loss:  0.24148071\n",
      "21 200 loss:  0.20330963\n",
      "22 0 loss:  0.1978104\n",
      "22 100 loss:  0.23989387\n",
      "22 200 loss:  0.20190245\n",
      "23 0 loss:  0.19657339\n",
      "23 100 loss:  0.23836777\n",
      "23 200 loss:  0.2005363\n",
      "24 0 loss:  0.1953698\n",
      "24 100 loss:  0.23688556\n",
      "24 200 loss:  0.19920288\n",
      "25 0 loss:  0.19420964\n",
      "25 100 loss:  0.23544893\n",
      "25 200 loss:  0.19790229\n",
      "26 0 loss:  0.19308338\n",
      "26 100 loss:  0.23405468\n",
      "26 200 loss:  0.19663845\n",
      "27 0 loss:  0.19198364\n",
      "27 100 loss:  0.2326793\n",
      "27 200 loss:  0.19541544\n",
      "28 0 loss:  0.1909174\n",
      "28 100 loss:  0.23134892\n",
      "28 200 loss:  0.19421585\n",
      "29 0 loss:  0.18986897\n",
      "29 100 loss:  0.23002857\n",
      "29 200 loss:  0.19302936\n"
     ]
    }
   ],
   "source": [
    "if __name__ == '__main__':\n",
    "    train()"
   ]
  }
 ],
 "metadata": {
  "kernelspec": {
   "display_name": "Python 3",
   "language": "python",
   "name": "python3"
  },
  "language_info": {
   "codemirror_mode": {
    "name": "ipython",
    "version": 3
   },
   "file_extension": ".py",
   "mimetype": "text/x-python",
   "name": "python",
   "nbconvert_exporter": "python",
   "pygments_lexer": "ipython3",
   "version": "3.7.4"
  }
 },
 "nbformat": 4,
 "nbformat_minor": 4
}
