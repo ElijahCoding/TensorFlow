{
 "cells": [
  {
   "cell_type": "code",
   "execution_count": 2,
   "metadata": {},
   "outputs": [],
   "source": [
    "import tensorflow as tf"
   ]
  },
  {
   "cell_type": "code",
   "execution_count": 31,
   "metadata": {},
   "outputs": [
    {
     "name": "stdout",
     "output_type": "stream",
     "text": [
      "tf.Tensor([7 8 9 3 1 4 2 5 0 6], shape=(10,), dtype=int32)\n"
     ]
    }
   ],
   "source": [
    "idx = tf.range(10)\n",
    "idx = tf.random.shuffle(idx)\n",
    "\n",
    "print(idx)"
   ]
  },
  {
   "cell_type": "code",
   "execution_count": null,
   "metadata": {},
   "outputs": [],
   "source": []
  },
  {
   "cell_type": "code",
   "execution_count": 32,
   "metadata": {},
   "outputs": [
    {
     "name": "stdout",
     "output_type": "stream",
     "text": [
      "tf.Tensor(\n",
      "[[-0.990611   -0.6115907  -0.18459266 ...  0.59540576 -0.3611763\n",
      "  -0.42478624]\n",
      " [-0.9889593   0.10148653  0.7698524  ...  0.06171652 -1.4275547\n",
      "  -0.7721569 ]\n",
      " [-0.25397608  0.2242649  -0.9363989  ...  1.9984083  -0.7647652\n",
      "   0.5235895 ]\n",
      " ...\n",
      " [-0.9993459  -1.2953984   1.1052573  ... -0.01896489  0.8950745\n",
      "   1.3507744 ]\n",
      " [-0.13642244 -0.06731     1.6737901  ...  1.1343237  -0.6692499\n",
      "  -0.93689334]\n",
      " [-0.11224463  2.5040717   2.4233189  ...  0.61712986  1.3114134\n",
      "  -0.19155532]], shape=(10, 784), dtype=float32)\n",
      "tf.Tensor([4 7 4 8 1 0 1 1 3 5], shape=(10,), dtype=int32)\n"
     ]
    }
   ],
   "source": [
    "a = tf.random.normal([10, 784])\n",
    "b = tf.random.uniform([10], maxval=10, dtype=tf.int32)\n",
    "\n",
    "print(a)\n",
    "print(b)"
   ]
  },
  {
   "cell_type": "code",
   "execution_count": 39,
   "metadata": {},
   "outputs": [
    {
     "data": {
      "text/plain": [
       "<tf.Tensor: id=220, shape=(10, 784), dtype=float32, numpy=\n",
       "array([[-0.9993459 , -1.2953984 ,  1.1052573 , ..., -0.01896489,\n",
       "         0.8950745 ,  1.3507744 ],\n",
       "       [-0.13642244, -0.06731   ,  1.6737901 , ...,  1.1343237 ,\n",
       "        -0.6692499 , -0.93689334],\n",
       "       [-0.11224463,  2.5040717 ,  2.4233189 , ...,  0.61712986,\n",
       "         1.3114134 , -0.19155532],\n",
       "       ...,\n",
       "       [-0.36778873, -1.5633614 , -0.84105694, ..., -0.7960318 ,\n",
       "         0.26168627, -0.22506562],\n",
       "       [-0.990611  , -0.6115907 , -0.18459266, ...,  0.59540576,\n",
       "        -0.3611763 , -0.42478624],\n",
       "       [-0.7932905 , -0.75275314, -0.9074838 , ..., -2.324202  ,\n",
       "         0.9194799 , -1.2222632 ]], dtype=float32)>"
      ]
     },
     "execution_count": 39,
     "metadata": {},
     "output_type": "execute_result"
    }
   ],
   "source": [
    "a = tf.gather(a, idx)\n",
    "a"
   ]
  },
  {
   "cell_type": "code",
   "execution_count": 41,
   "metadata": {},
   "outputs": [
    {
     "data": {
      "text/plain": [
       "<tf.Tensor: id=224, shape=(10,), dtype=int32, numpy=array([0, 4, 1, 8, 3, 7, 5, 1, 1, 4], dtype=int32)>"
      ]
     },
     "execution_count": 41,
     "metadata": {},
     "output_type": "execute_result"
    }
   ],
   "source": [
    "b = tf.gather(b, idx)\n",
    "b"
   ]
  }
 ],
 "metadata": {
  "kernelspec": {
   "display_name": "Python 3",
   "language": "python",
   "name": "python3"
  },
  "language_info": {
   "codemirror_mode": {
    "name": "ipython",
    "version": 3
   },
   "file_extension": ".py",
   "mimetype": "text/x-python",
   "name": "python",
   "nbconvert_exporter": "python",
   "pygments_lexer": "ipython3",
   "version": "3.7.4"
  }
 },
 "nbformat": 4,
 "nbformat_minor": 4
}
